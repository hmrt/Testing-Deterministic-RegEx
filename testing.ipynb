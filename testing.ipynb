{
 "cells": [
  {
   "cell_type": "code",
   "execution_count": 30,
   "metadata": {},
   "outputs": [],
   "source": [
    "from os.path import commonprefix\n",
    "from FAdo.reex import *\n",
    "from FAdo.cfg import *\n",
    "from FAdo.fa import *\n",
    "import cProfile\n",
    "%run _eTree_.ipynb"
   ]
  },
  {
   "cell_type": "markdown",
   "metadata": {},
   "source": [
    "1) Gerar expressão regular aleatória"
   ]
  },
  {
   "cell_type": "code",
   "execution_count": 23,
   "metadata": {},
   "outputs": [
    {
     "name": "stdout",
     "output_type": "stream",
     "text": [
      "CPU times: user 3.69 s, sys: 15.7 ms, total: 3.7 s\n",
      "Wall time: 3.7 s\n",
      "RegEx generated!\n"
     ]
    }
   ],
   "source": [
    "%time op = reStringRGenerator(Sigma={\"a\",\"b\"}, size=1000, cfgr=reGrammar[\"g_rpn\"], epsilon=None)\n",
    "a1 = op.generate()\n",
    "b1 = rpn2regexp(a1).reduced()\n",
    "print \"RegEx generated!\"\n",
    "b2 = b1.marked()"
   ]
  },
  {
   "cell_type": "markdown",
   "metadata": {},
   "source": [
    "2) Criar árvore e gerar FollowList da expressão e compara-la com FollowListsD do FAdo"
   ]
  },
  {
   "cell_type": "code",
   "execution_count": 24,
   "metadata": {},
   "outputs": [
    {
     "name": "stdout",
     "output_type": "stream",
     "text": [
      "Tree done!\n",
      "Equal? True\n"
     ]
    }
   ],
   "source": [
    "b2 = b1.marked()\n",
    "t = eTree(b1)\n",
    "print \"Tree done!\"\n",
    "n = t.root\n",
    "l = n.First()\n",
    "def compare():\n",
    "    d = b2.followListsD()\n",
    "    k = t.followList()\n",
    "    for x in k:\n",
    "        x2 = x.exp\n",
    "        for z in k[x]:\n",
    "            if z.exp not in set(d[x2]):\n",
    "                return False\n",
    "    return True\n",
    "print \"Equal?\",compare()"
   ]
  },
  {
   "cell_type": "markdown",
   "metadata": {},
   "source": [
    "3) Comparar tempos de execução de FollowList e FollowListsD"
   ]
  },
  {
   "cell_type": "code",
   "execution_count": 25,
   "metadata": {},
   "outputs": [
    {
     "name": "stdout",
     "output_type": "stream",
     "text": [
      "CPU times: user 935 ms, sys: 8.01 ms, total: 943 ms\n",
      "Wall time: 932 ms\n",
      "         947073 function calls (812363 primitive calls) in 1.186 seconds\n",
      "\n",
      "   Ordered by: standard name\n",
      "\n",
      "   ncalls  tottime  percall  cumtime  percall filename:lineno(function)\n",
      "        1    0.075    0.075    1.186    1.186 <ipython-input-22-2160078ae33f>:12(followList)\n",
      "    67516    0.041    0.000    0.041    0.000 <ipython-input-22-5bb6fbfa7e03>:100(First)\n",
      "    12091    0.007    0.000    0.007    0.000 <ipython-input-22-5bb6fbfa7e03>:109(Last)\n",
      "215243/80533    0.206    0.000    0.221    0.000 <ipython-input-22-5bb6fbfa7e03>:117(LSA)\n",
      "    82369    0.217    0.000    1.102    0.000 <ipython-input-22-5bb6fbfa7e03>:76(follow)\n",
      "    20700    0.073    0.000    0.089    0.000 <ipython-input-22-5bb6fbfa7e03>:89(follow_concat)\n",
      "    46816    0.147    0.000    0.180    0.000 <ipython-input-22-5bb6fbfa7e03>:94(follow_star)\n",
      "        1    0.000    0.000    1.186    1.186 <string>:1(<module>)\n",
      "    82369    0.309    0.000    0.369    0.000 genericpath.py:76(commonprefix)\n",
      "   168427    0.015    0.000    0.015    0.000 {len}\n",
      "    82369    0.022    0.000    0.022    0.000 {max}\n",
      "     4432    0.009    0.000    0.009    0.000 {method 'add' of 'set' objects}\n",
      "        1    0.000    0.000    0.000    0.000 {method 'disable' of '_lsprof.Profiler' objects}\n",
      "    82369    0.026    0.000    0.026    0.000 {method 'get' of 'dict' objects}\n",
      "    82369    0.037    0.000    0.037    0.000 {min}\n",
      "\n",
      "\n",
      "CPU times: user 21.3 ms, sys: 12.1 ms, total: 33.5 ms\n",
      "Wall time: 27.5 ms\n",
      "         50323 function calls (38911 primitive calls) in 0.043 seconds\n",
      "\n",
      "   Ordered by: standard name\n",
      "\n",
      "   ncalls  tottime  percall  cumtime  percall filename:lineno(function)\n",
      "        1    0.000    0.000    0.043    0.043 <string>:1(<module>)\n",
      "     4278    0.002    0.000    0.003    0.000 reex.py:1087(first)\n",
      "     1483    0.001    0.000    0.001    0.000 reex.py:1097(last)\n",
      "      133    0.000    0.000    0.001    0.000 reex.py:1127(followListsD)\n",
      "      154    0.000    0.000    0.001    0.000 reex.py:1148(followListsStar)\n",
      "      161    0.000    0.000    0.000    0.000 reex.py:1481(first)\n",
      "       89    0.000    0.000    0.000    0.000 reex.py:1490(last)\n",
      "       18    0.000    0.000    0.000    0.000 reex.py:1506(followListsD)\n",
      "        4    0.000    0.000    0.000    0.000 reex.py:1514(followListsStar)\n",
      "      236    0.000    0.000    0.000    0.000 reex.py:1670(ewp)\n",
      "      142    0.005    0.000    0.034    0.000 reex.py:1953(_cross)\n",
      " 1403/900    0.002    0.000    0.003    0.000 reex.py:2006(ewp)\n",
      " 2224/728    0.003    0.000    0.010    0.000 reex.py:2033(first)\n",
      "  864/154    0.001    0.000    0.005    0.000 reex.py:2037(last)\n",
      "     95/1    0.000    0.000    0.043    0.043 reex.py:2047(followListsD)\n",
      "     73/3    0.000    0.000    0.038    0.013 reex.py:2053(followListsStar)\n",
      " 1763/773    0.001    0.000    0.008    0.000 reex.py:2593(first)\n",
      "  569/266    0.000    0.000    0.004    0.000 reex.py:2596(last)\n",
      "     88/6    0.000    0.000    0.042    0.007 reex.py:2608(followListsD)\n",
      "     41/9    0.000    0.000    0.034    0.004 reex.py:2611(followListsStar)\n",
      "     1477    0.000    0.000    0.000    0.000 reex.py:2691(ewp)\n",
      " 1102/696    0.001    0.000    0.002    0.000 reex.py:2802(ewp)\n",
      " 1653/694    0.003    0.000    0.009    0.000 reex.py:2805(first)\n",
      "  758/148    0.001    0.000    0.005    0.000 reex.py:2811(last)\n",
      "     71/1    0.001    0.000    0.043    0.043 reex.py:2827(followListsD)\n",
      "     69/4    0.000    0.000    0.040    0.010 reex.py:2837(followListsStar)\n",
      "     5022    0.005    0.000    0.010    0.000 reex.py:3254(__repr__)\n",
      "     2292    0.001    0.000    0.001    0.000 reex.py:328(ewp)\n",
      "     5022    0.004    0.000    0.018    0.000 reex.py:378(__hash__)\n",
      "     5022    0.001    0.000    0.001    0.000 {hash}\n",
      "     3971    0.001    0.000    0.001    0.000 {method 'append' of 'list' objects}\n",
      "        1    0.000    0.000    0.000    0.000 {method 'disable' of '_lsprof.Profiler' objects}\n",
      "10044/5022    0.008    0.000    0.013    0.000 {repr}\n",
      "\n",
      "\n"
     ]
    }
   ],
   "source": [
    "%time t.followList()\n",
    "cProfile.run(\"t.followList()\")\n",
    "%time b2.followListsD()\n",
    "cProfile.run(\"b2.followListsD()\")"
   ]
  },
  {
   "cell_type": "markdown",
   "metadata": {},
   "source": [
    "4) Testar FollowList para o exemplo de B.Groz e S.Manneth"
   ]
  },
  {
   "cell_type": "code",
   "execution_count": 26,
   "metadata": {},
   "outputs": [
    {
     "name": "stdout",
     "output_type": "stream",
     "text": [
      "('b', 3) :\n",
      "('a', 4)\n",
      "('b', 3)\n",
      "('c', 5)\n",
      "_________\n",
      "('c', 5) :\n",
      "('a', 2)\n",
      "('c', 1)\n",
      "('b', 6)\n",
      "_________\n",
      "('a', 7) :\n",
      "_________\n",
      "('a', 2) :\n",
      "('a', 4)\n",
      "('b', 3)\n",
      "('c', 5)\n",
      "_________\n",
      "('c', 1) :\n",
      "('a', 2)\n",
      "('c', 1)\n",
      "_________\n",
      "('a', 4) :\n",
      "('a', 4)\n",
      "('c', 5)\n",
      "_________\n",
      "('b', 6) :\n",
      "('a', 7)\n",
      "_________\n"
     ]
    }
   ],
   "source": [
    "e4 = str2regexp(\"((c*)((ab*)(a*c)))*(ba)\")\n",
    "t4 = eTree(e4)\n",
    "k4 = t4.followList()\n",
    "for x in k4:\n",
    "    print x.exp,\":\"\n",
    "    for y in k4[x]:\n",
    "        print y.exp\n",
    "    print \"_________\""
   ]
  },
  {
   "cell_type": "markdown",
   "metadata": {},
   "source": [
    "5) Testar BuildNext para exemplo anterior"
   ]
  },
  {
   "cell_type": "code",
   "execution_count": 35,
   "metadata": {},
   "outputs": [
    {
     "name": "stdout",
     "output_type": "stream",
     "text": [
      "True\n",
      "('b', 6) ('a', 7) :\n",
      "----------\n",
      "(('c', 1)* ((('a', 2) ('b', 3)*) (('a', 4)* ('c', 5))))* (('b', 6) ('a', 7)) :\n",
      "----------\n",
      "('b', 6) :\n",
      "----------\n",
      "(('c', 1)* ((('a', 2) ('b', 3)*) (('a', 4)* ('c', 5))))* :\n",
      "('b', 6)\n",
      "----------\n",
      "('b', 3) :\n",
      "----------\n",
      "('b', 3)* :\n",
      "----------\n"
     ]
    }
   ],
   "source": [
    "e4 = str2regexp(\"((c*)((ab*)(a*c)))*(ba)\")\n",
    "t4 = eTree(e4)\n",
    "print buildNext('b',t4.root,set())\n",
    "for x in  t4.next:\n",
    "    print x.exp,\":\"\n",
    "    for y in t4.next[x]:\n",
    "        print y.exp\n",
    "    print \"----------\""
   ]
  }
 ],
 "metadata": {
  "kernelspec": {
   "display_name": "Python 2",
   "language": "python",
   "name": "python2"
  },
  "language_info": {
   "codemirror_mode": {
    "name": "ipython",
    "version": 2
   },
   "file_extension": ".py",
   "mimetype": "text/x-python",
   "name": "python",
   "nbconvert_exporter": "python",
   "pygments_lexer": "ipython2",
   "version": "2.7.16"
  }
 },
 "nbformat": 4,
 "nbformat_minor": 2
}
