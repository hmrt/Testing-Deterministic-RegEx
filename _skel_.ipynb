{
 "cells": [
  {
   "cell_type": "code",
   "execution_count": 217,
   "metadata": {},
   "outputs": [],
   "source": [
    "from FAdo.reex import *\n",
    "from os.path import commonprefix"
   ]
  },
  {
   "cell_type": "code",
   "execution_count": 1,
   "metadata": {},
   "outputs": [],
   "source": [
    "def buildNext(a,n,y):\n",
    "        if n.SupLast():\n",
    "            y = set()\n",
    "        te = n.tree\n",
    "        ta = te.build_ta(a)\n",
    "        if ta is None:\n",
    "            return False\n",
    "        dad = get_parent(n,ta)\n",
    "        if dad is not None:\n",
    "            r = get_right(dad,ta)\n",
    "            if dad.type is concat and get_left(dad,ta) is n and r is not None:\n",
    "                if not n.SupLast() or get_parent(n,ta) is n.parent:\n",
    "                    y = y.union(r.FirstPos(ta))\n",
    "        te.next[n] = set()\n",
    "        for x in n.follow_after():\n",
    "            if x.exp.val[0] == a:\n",
    "                te.next[n].add(x)\n",
    "        if n.type is star:\n",
    "            y = y.union(n.FirstPos(ta))\n",
    "        if len(y)>2:\n",
    "            return False\n",
    "        l = get_left(n,ta)\n",
    "        if l is None or l.exp.ewp():\n",
    "            return True\n",
    "        else:\n",
    "            b = buildNext(a,l,y)\n",
    "        r = get_right(n,ta)\n",
    "        if r is None or r.exp.ewp():\n",
    "            return b\n",
    "        return (b and (buildNext(a,r,y)))"
   ]
  },
  {
   "cell_type": "code",
   "execution_count": 221,
   "metadata": {},
   "outputs": [],
   "source": [
    "def get_parent(n,tree):\n",
    "    t = n.tree\n",
    "    while n is not t.root:\n",
    "        parent = n.parent\n",
    "        if parent in tree:\n",
    "            return parent\n",
    "        n = n.parent\n",
    "    return None\n",
    "\n",
    "def get_left(n,tree):\n",
    "    if n.type is position:\n",
    "        return None\n",
    "    path = n.path+'1'\n",
    "    possible = set()\n",
    "    for x in tree:\n",
    "        if len(x.path)>=len(path) and commonprefix([x.path,path])==path:\n",
    "            possible.add(x.path)\n",
    "    if len(possible) == 0:\n",
    "        return None\n",
    "    return n.tree.NT.get(min(possible))\n",
    "\n",
    "def get_right(n,tree):\n",
    "    if n.type is position:\n",
    "        return None\n",
    "    path = n.path+'2'\n",
    "    possible = set()\n",
    "    for x in tree:\n",
    "        if len(x.path)>=len(path) and commonprefix([x.path,path])==path:\n",
    "            possible.add(x.path)\n",
    "    if len(possible) == 0:\n",
    "        return None\n",
    "    return n.tree.NT.get(min(possible))"
   ]
  }
 ],
 "metadata": {
  "kernelspec": {
   "display_name": "Python 2",
   "language": "python",
   "name": "python2"
  },
  "language_info": {
   "codemirror_mode": {
    "name": "ipython",
    "version": 2
   },
   "file_extension": ".py",
   "mimetype": "text/x-python",
   "name": "python",
   "nbconvert_exporter": "python",
   "pygments_lexer": "ipython2",
   "version": "2.7.16"
  }
 },
 "nbformat": 4,
 "nbformat_minor": 2
}
