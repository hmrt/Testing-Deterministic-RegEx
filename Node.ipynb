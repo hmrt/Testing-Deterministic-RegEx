{
 "cells": [
  {
   "cell_type": "code",
   "execution_count": 1,
   "metadata": {},
   "outputs": [],
   "source": [
    "from FAdo.reex import *\n",
    "import re"
   ]
  },
  {
   "cell_type": "code",
   "execution_count": 2,
   "metadata": {},
   "outputs": [],
   "source": [
    "NT = dict({})\n",
    "class Node:\n",
    "    \n",
    "    def __init__(self,expr,string):\n",
    "        self.type = type(expr)\n",
    "        self.path = string\n",
    "        self.exp = expr\n",
    "        NT[self.path] = self\n",
    "    \n",
    "    def set_left(self,n):\n",
    "        NT[self.path+'1'] = n\n",
    "        \n",
    "    def set_right(self,n):\n",
    "        NT[self.path+'2'] = n\n",
    "\n",
    "    def get_left(self):\n",
    "        return NT.get(self.path+'1')\n",
    "    \n",
    "    def get_right(self):\n",
    "        return NT.get(self.path+'2')\n",
    "        \n",
    "    def get_parent(self):\n",
    "        return NT[self.path[:-1]]\n",
    "    \n",
    "    def printTree(self):\n",
    "        if NT.get(self.path):\n",
    "            print self.exp\n",
    "            if NT.get(self.path+'1'):\n",
    "                l = NT[self.path+'1']\n",
    "                l.printTree()\n",
    "            if NT.get(self.path+'2'):\n",
    "                r = NT[self.path+'2']\n",
    "                r.printTree()\n",
    "        \n",
    "    def get_root(self):\n",
    "        return NT.get(\"1\")\n",
    "    \n",
    "    def check_reex(self):\n",
    "        if self.type == 'atom':\n",
    "            if self.get_left() or self.get_right():\n",
    "                return False\n",
    "        elif self.type == 'star':\n",
    "            if self.get_left() is None or self.get_right():\n",
    "                return False\n",
    "            if self.get_left().check_reex() is False:\n",
    "                return False\n",
    "        else:\n",
    "            if self.get_left() is None or self.get_right() is None:\n",
    "                return False\n",
    "            if self.get_left().check_reex() is False or self.get_right().check_reex() is False:\n",
    "                return False\n",
    "        return True\n",
    "\n",
    "def get_root():\n",
    "    return NT.get(\"1\")\n",
    "\n",
    "def LCA(p,q):\n",
    "    str1 = p.path\n",
    "    str2 = q.path\n",
    "    ret = \"\"\n",
    "    i = 0\n",
    "    while i < len(str1) and i < len(str2):\n",
    "        if str1[i]!=str2[i]:\n",
    "            break\n",
    "        ret = ret+str1[i]\n",
    "        i = i+1\n",
    "    return ret\n"
   ]
  },
  {
   "cell_type": "code",
   "execution_count": 3,
   "metadata": {},
   "outputs": [],
   "source": [
    "\"\"\"\n",
    "atom -> val\n",
    "star -> arg\n",
    "other -> arg1 /\\ arg2\n",
    "\"\"\"\n",
    "def eTree(reg_exp,path):\n",
    "    node = Node(reg_exp,path)\n",
    "    if type(reg_exp)==atom:\n",
    "        return\n",
    "    elif type(reg_exp)==star:\n",
    "        son = eTree(node.exp.arg,path+\"1\")\n",
    "    else:\n",
    "        son1 = eTree(node.exp.arg1,path+\"1\")\n",
    "        son2 = eTree(node.exp.arg2,path+\"2\")"
   ]
  },
  {
   "cell_type": "code",
   "execution_count": 4,
   "metadata": {},
   "outputs": [],
   "source": [
    "def lemma2(p,q):\n",
    "    node1 = NT.get(LCA(p,q))\n",
    "    list1 = []\n",
    "    for x in node1.get_right().exp.first():\n",
    "        list1.append(x.val)\n",
    "    list2 = []\n",
    "    for x in node1.get_left().exp.last():\n",
    "        list2.append(x.val)\n",
    "    if type(node1.exp)==concat and str(q.exp) in list1 and str(p.exp) in list2:\n",
    "        return True\n",
    "    while type(node1.exp)!=star:\n",
    "        if node1.path==\"1\":\n",
    "            return False\n",
    "        node1 = node1.get_parent()\n",
    "    list1 = []\n",
    "    for x in node1.exp.first():\n",
    "        list1.append(x.val)\n",
    "    list2 = []\n",
    "    for x in node1.exp.last():\n",
    "        list2.append(x.val)\n",
    "    if str(q.exp) in list1 and str(p.exp) in list2:\n",
    "        return True\n",
    "    return False"
   ]
  },
  {
   "cell_type": "code",
   "execution_count": 5,
   "metadata": {
    "scrolled": true
   },
   "outputs": [
    {
     "name": "stdout",
     "output_type": "stream",
     "text": [
      "atom(a) is followed by atom(b): True\n",
      "atom(a) is followed by atom(c): True\n",
      "atom(a) is followed by atom(d): False\n"
     ]
    }
   ],
   "source": [
    "a = str2regexp(\"a(b+cd)*\")\n",
    "eTree(a,\"1\")\n",
    "p = NT.get(\"11\") # atom(a)\n",
    "q1 = NT.get(\"1211\") # atom(b)\n",
    "q2 = NT.get(\"12121\") # atom(c)\n",
    "q3 = NT.get(\"12122\") # atom(d)\n",
    "print \"atom(a) is followed by atom(b): %s\"%lemma2(p,q1)\n",
    "print \"atom(a) is followed by atom(c): %s\"%lemma2(p,q2)\n",
    "print \"atom(a) is followed by atom(d): %s\"%lemma2(p,q3)"
   ]
  },
  {
   "cell_type": "code",
   "execution_count": null,
   "metadata": {},
   "outputs": [],
   "source": []
  }
 ],
 "metadata": {
  "kernelspec": {
   "display_name": "Python 2",
   "language": "python",
   "name": "python2"
  },
  "language_info": {
   "codemirror_mode": {
    "name": "ipython",
    "version": 2
   },
   "file_extension": ".py",
   "mimetype": "text/x-python",
   "name": "python",
   "nbconvert_exporter": "python",
   "pygments_lexer": "ipython2",
   "version": "2.7.16"
  }
 },
 "nbformat": 4,
 "nbformat_minor": 2
}
