{
 "cells": [
  {
   "cell_type": "code",
   "execution_count": 2,
   "metadata": {},
   "outputs": [],
   "source": [
    "from FAdo.reex import *"
   ]
  },
  {
   "cell_type": "code",
   "execution_count": 122,
   "metadata": {},
   "outputs": [],
   "source": [
    "NT = {}\n",
    "class Node:\n",
    "    \n",
    "    def __init__(self,expr,string):\n",
    "        self.type = type(expr)\n",
    "        self.path = string\n",
    "        self.exp = expr\n",
    "        if self.type == position:\n",
    "            self.posix = expr.val[1]\n",
    "        NT[self.path] = self\n",
    "    \n",
    "    def set_left(self,n):\n",
    "        NT[self.path+'1'] = n\n",
    "        \n",
    "    def set_right(self,n):\n",
    "        NT[self.path+'2'] = n\n",
    "\n",
    "    def get_left(self):\n",
    "        return NT.get(self.path+'1')\n",
    "    \n",
    "    def get_right(self):\n",
    "        return NT.get(self.path+'2')\n",
    "        \n",
    "    def get_parent(self):\n",
    "        if self.path==\"1\":\n",
    "            return NT[self.path]\n",
    "        return NT[self.path[:-1]]\n",
    "    \n",
    "    def printTree(self):\n",
    "        if NT.get(self.path):\n",
    "            print self.exp\n",
    "            if NT.get(self.path+'1'):\n",
    "                l = NT[self.path+'1']\n",
    "                l.printTree()\n",
    "            if NT.get(self.path+'2'):\n",
    "                r = NT[self.path+'2']\n",
    "                r.printTree()\n",
    "        \n",
    "    def get_root(self):\n",
    "        return NT.get(\"1\")\n",
    "    \n",
    "    def check_reex(self):\n",
    "        if self.type == 'atom':\n",
    "            if self.get_left() or self.get_right():\n",
    "                return False\n",
    "        elif self.type == 'star':\n",
    "            if self.get_left() is None or self.get_right():\n",
    "                return False\n",
    "            if self.get_left().check_reex() is False:\n",
    "                return False\n",
    "        else:\n",
    "            if self.get_left() is None or self.get_right() is None:\n",
    "                return False\n",
    "            if self.get_left().check_reex() is False or self.get_right().check_reex() is False:\n",
    "                return False\n",
    "        return True\n",
    "    \n",
    "    def reflexive(self,n):\n",
    "        if LCA(self,n)==n.path:\n",
    "            return True\n",
    "        else:\n",
    "            return False\n",
    "\n",
    "    def followList(self):\n",
    "        f_list = []\n",
    "        for x in NT:\n",
    "            node = NT.get(x)\n",
    "            if self == node:\n",
    "                continue\n",
    "            if q_follow(self,node):\n",
    "                f_list.append(node.exp)\n",
    "        return f_list\n",
    "    \n",
    "    # list of first atoms from a reg exp using lemma 2.3\n",
    "    def first(self):\n",
    "        f_list = []\n",
    "        for x in NT:\n",
    "            node = NT.get(x)\n",
    "            if self == node:\n",
    "                continue\n",
    "            if isFirst(self,node):\n",
    "                f_list.append(node.exp)\n",
    "        return f_list\n",
    "    \n",
    "    # list of last atoms from a reg exp using lemma 2.3\n",
    "    def last(self):\n",
    "        f_list = []\n",
    "        for x in NT:\n",
    "            node = NT.get(x)\n",
    "            if self == node:\n",
    "                continue\n",
    "            if isLast(self,node):\n",
    "                f_list.append(node.exp)\n",
    "        return f_list\n",
    "    \n",
    "\n",
    "def get_root():\n",
    "    return NT.get(\"1\")\n",
    "\n",
    "# Last Common Ancestor\n",
    "def LCA(p,q):\n",
    "    str1 = p.path\n",
    "    str2 = q.path\n",
    "    ret = \"\"\n",
    "    i = 0\n",
    "    while i < len(str1) and i < len(str2):\n",
    "        if str1[i]!=str2[i]:\n",
    "            break\n",
    "        ret = ret+str1[i]\n",
    "        i = i+1\n",
    "    return ret\n"
   ]
  },
  {
   "cell_type": "code",
   "execution_count": 123,
   "metadata": {},
   "outputs": [],
   "source": [
    "\"\"\"\n",
    "atom -> val\n",
    "star -> arg\n",
    "other -> arg1 /\\ arg2\n",
    "\"\"\"\n",
    "def eTree(reg_exp,path):\n",
    "    node = Node(reg_exp,path)\n",
    "    if type(reg_exp)==position:\n",
    "        return\n",
    "    elif type(reg_exp)==star:\n",
    "        son = eTree(node.exp.arg,path+\"1\")\n",
    "    else:\n",
    "        son1 = eTree(node.exp.arg1,path+\"1\")\n",
    "        son2 = eTree(node.exp.arg2,path+\"2\")"
   ]
  },
  {
   "cell_type": "code",
   "execution_count": 124,
   "metadata": {},
   "outputs": [],
   "source": [
    "#lemma 2.2\n",
    "def q_follow(p,q):\n",
    "    node1 = NT.get(LCA(p,q))\n",
    "    list1 = []\n",
    "    for x in node1.get_right().exp.first():\n",
    "        list1.append(x.val)\n",
    "    list2 = []\n",
    "    for x in node1.get_left().exp.last():\n",
    "        list2.append(x.val)\n",
    "    if type(node1.exp)==concat and str(q.exp) in list1 and str(p.exp) in list2:\n",
    "        return True\n",
    "    while type(node1.exp)!=star:\n",
    "        if node1.path==\"1\":\n",
    "            return False\n",
    "        node1 = node1.get_parent()\n",
    "    list1 = []\n",
    "    for x in node1.exp.first():\n",
    "        list1.append(x.val)\n",
    "    list2 = []\n",
    "    for x in node1.exp.last():\n",
    "        list2.append(x.val)\n",
    "    if str(q.exp) in list1 and str(p.exp) in list2:\n",
    "        return True\n",
    "    return False\n"
   ]
  },
  {
   "cell_type": "code",
   "execution_count": 128,
   "metadata": {
    "scrolled": true
   },
   "outputs": [
    {
     "name": "stdout",
     "output_type": "stream",
     "text": [
      "('a', 1) (('b', 2) + (('c', 3) ('d', 4)))*\n",
      "atom(a) is followed by atom(b): False\n",
      "atom(a) is followed by atom(c): False\n",
      "atom(a) is followed by atom(d): False\n",
      "atom(a) is followed by: []\n",
      "star(b+cd) first: []\n",
      "star(b+cd) last: []\n"
     ]
    }
   ],
   "source": [
    "a = str2regexp(\"a(b+cd)*\")\n",
    "a = a.marked()\n",
    "print a\n",
    "NT = {}\n",
    "eTree(a,\"1\")\n",
    "p = NT.get(\"11\") # atom(a)\n",
    "q = NT.get(\"12\") # star(b+cd)\n",
    "q1 = NT.get(\"1211\") # atom(b)\n",
    "q2 = NT.get(\"12121\") # atom(c)\n",
    "q3 = NT.get(\"12122\") # atom(d)\n",
    "print \"atom(a) is followed by atom(b): %s\"%q_follow(p,q1)\n",
    "print \"atom(a) is followed by atom(c): %s\"%q_follow(p,q2)\n",
    "print \"atom(a) is followed by atom(d): %s\"%q_follow(p,q3)\n",
    "print \"atom(a) is followed by:\",p.followList()\n",
    "print \"star(b+cd) first:\",q.first()\n",
    "print \"star(b+cd) last:\",q.last()"
   ]
  },
  {
   "cell_type": "code",
   "execution_count": 126,
   "metadata": {},
   "outputs": [],
   "source": [
    "# boolean that states if an atom is the first from the right child of a concatenation\n",
    "def SupFirst(n):\n",
    "    father = n.get_parent()\n",
    "    if father.type == concat and father.get_right()==n and father.get_left()!=None:\n",
    "        return True\n",
    "    else:\n",
    "        return False\n",
    "\n",
    "# boolean that states if an atom is the last from the left child of a concatenation\n",
    "def SupLast(n):\n",
    "    father = n.get_parent()\n",
    "    if father.type == concat and father.get_left()==n and father.get_right()!=None:\n",
    "        return True\n",
    "    else:\n",
    "        return False\n",
    "\n",
    "# pointer to the first(right child) of a concatenation\n",
    "def pSupFirst(n):\n",
    "    node = n\n",
    "    while not SupFirst(node):\n",
    "        if node.path == \"1\":\n",
    "            return None\n",
    "        node = node.get_parent()\n",
    "    return node\n",
    "\n",
    "# pointer to the last(left child) of a concatenation\n",
    "def pSupLast(n):\n",
    "    node = n\n",
    "    while not SupLast(node):\n",
    "        if node.path == \"1\":\n",
    "            return None\n",
    "        node = node.get_parent()\n",
    "    return node\n",
    "        "
   ]
  },
  {
   "cell_type": "code",
   "execution_count": 129,
   "metadata": {},
   "outputs": [],
   "source": [
    "# lemma 2.3\n",
    "def isFirst(n,p):\n",
    "    if pSupFirst(p) == None:\n",
    "        return False\n",
    "    if p.type == position and p.reflexive(n) and n.reflexive(pSupFirst(p)):\n",
    "        return True\n",
    "    return False\n",
    "\n",
    "def isLast(n,p):\n",
    "    if pSupLast(p) == None:\n",
    "        return False\n",
    "    if p.type == position and p.reflexive(n) and n.reflexive(pSupLast(p)):\n",
    "        return True\n",
    "    return False"
   ]
  },
  {
   "cell_type": "code",
   "execution_count": 138,
   "metadata": {},
   "outputs": [
    {
     "name": "stdout",
     "output_type": "stream",
     "text": [
      "((('c', 1)* (('a', 2) + ('b', 3))*) ('a', 4)*) ('c', 5)\n",
      "(('c', 1)* (('a', 2) + ('b', 3))*) ('a', 4)*\n",
      "('c', 1)* (('a', 2) + ('b', 3))*\n",
      "('c', 1)*\n",
      "('c', 1)\n",
      "(('a', 2) + ('b', 3))*\n",
      "('a', 2) + ('b', 3)\n",
      "('a', 2)\n",
      "('b', 3)\n",
      "('a', 4)*\n",
      "('a', 4)\n",
      "('c', 5)\n",
      "first: [position('a', 4)]\n",
      "last: [position('a', 4)]\n"
     ]
    }
   ],
   "source": [
    "P = str2regexp(\"c*(a+b)*a*c\")\n",
    "NT = {}\n",
    "eTree(P.marked(),\"1\")\n",
    "q = NT.get(\"112\")\n",
    "get_root().printTree()\n",
    "print \"first:\",q.first()\n",
    "print \"last:\",q.last()"
   ]
  },
  {
   "cell_type": "code",
   "execution_count": 132,
   "metadata": {},
   "outputs": [],
   "source": [
    "# follow defined by lemma 2.5 (q follows p)\n",
    "def follow(p,q):\n",
    "    node1 = pSupFirst(q)\n",
    "    node2 = pSupLast(p)\n",
    "    if node1.path == \"1\" or node2.path == \"1\" or p.type != position or q.type != position:\n",
    "        return False\n",
    "    if p.reflexive(node1.get_parent()) and q.reflexive(node2.get_parent()):\n",
    "        return True\n",
    "    return False\n",
    "    "
   ]
  },
  {
   "cell_type": "code",
   "execution_count": 133,
   "metadata": {},
   "outputs": [],
   "source": [
    "# epsilon acceptance by lemma 2.6\n",
    "def ewp_SupFirst(p,q):\n",
    "    node = pSupFirst(q)\n",
    "    if node.path == \"1\" or p.type != position or q.type != position or not follow(p,q):\n",
    "        return False\n",
    "    node = node.get_parent()\n",
    "    if node.reflexive(pSupLast(p)):\n",
    "        return True\n",
    "    return False"
   ]
  },
  {
   "cell_type": "code",
   "execution_count": 41,
   "metadata": {},
   "outputs": [],
   "source": [
    "# word acceptance by a regexp by lemma 2.7\n"
   ]
  },
  {
   "cell_type": "code",
   "execution_count": 136,
   "metadata": {},
   "outputs": [
    {
     "name": "stdout",
     "output_type": "stream",
     "text": [
      "(('c', 1)* (('a', 2) + ('b', 3))*) ('a', 4)*\n"
     ]
    }
   ],
   "source": [
    "NT = {}\n",
    "kkk = str2regexp(\"c*(a+b)*a*c\")\n",
    "kkk = kkk.marked()\n",
    "eTree(kkk,\"1\")\n",
    "print NT.get(\"11\").exp"
   ]
  },
  {
   "cell_type": "code",
   "execution_count": null,
   "metadata": {},
   "outputs": [],
   "source": []
  }
 ],
 "metadata": {
  "kernelspec": {
   "display_name": "Python 2",
   "language": "python",
   "name": "python2"
  },
  "language_info": {
   "codemirror_mode": {
    "name": "ipython",
    "version": 2
   },
   "file_extension": ".py",
   "mimetype": "text/x-python",
   "name": "python",
   "nbconvert_exporter": "python",
   "pygments_lexer": "ipython2",
   "version": "2.7.16"
  }
 },
 "nbformat": 4,
 "nbformat_minor": 2
}
