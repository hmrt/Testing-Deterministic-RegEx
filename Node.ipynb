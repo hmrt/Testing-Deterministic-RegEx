{
 "cells": [
  {
   "cell_type": "code",
   "execution_count": 1,
   "metadata": {},
   "outputs": [],
   "source": [
    "from FAdo.reex import *\n",
    "import re"
   ]
  },
  {
   "cell_type": "code",
   "execution_count": 23,
   "metadata": {},
   "outputs": [],
   "source": [
    "NT = dict({})\n",
    "class Node:\n",
    "    \n",
    "    def __init__(self,expr,string):\n",
    "        self.type = type(expr)\n",
    "        self.path = string\n",
    "        self.exp = expr\n",
    "        NT[self.path] = self\n",
    "    \n",
    "    def set_left(self,n):\n",
    "        NT[self.path+'1'] = n\n",
    "        \n",
    "    def set_right(self,n):\n",
    "        NT[self.path+'2'] = n\n",
    "\n",
    "    def get_left(self):\n",
    "        return NT.get(self.path+'1')\n",
    "    \n",
    "    def get_right(self):\n",
    "        return NT.get(self.path+'2')\n",
    "        \n",
    "    def get_parent(self):\n",
    "        return NT[self.path[:-1]]\n",
    "    \n",
    "    def printTree(self):\n",
    "        if NT.get(self.path):\n",
    "            print self.exp\n",
    "            if NT.get(self.path+'1'):\n",
    "                l = NT[self.path+'1']\n",
    "                l.printTree()\n",
    "            if NT.get(self.path+'2'):\n",
    "                r = NT[self.path+'2']\n",
    "                r.printTree()\n",
    "        \n",
    "    def get_root(self):\n",
    "        return NT.get(\"1\")\n",
    "    \n",
    "    def check_reex(self):\n",
    "        if self.type == 'atom':\n",
    "            if self.get_left() or self.get_right():\n",
    "                return False\n",
    "        elif self.type == 'star':\n",
    "            if self.get_left() is None or self.get_right():\n",
    "                return False\n",
    "            if self.get_left().check_reex() is False:\n",
    "                return False\n",
    "        else:\n",
    "            if self.get_left() is None or self.get_right() is None:\n",
    "                return False\n",
    "            if self.get_left().check_reex() is False or self.get_right().check_reex() is False:\n",
    "                return False\n",
    "        return True\n",
    "\n",
    "def get_root():\n",
    "    return NT.get(\"1\")\n",
    "\n",
    "def LCA(p,q):\n",
    "    str1 = p.path\n",
    "    str2 = q.path\n",
    "    ret = \"\"\n",
    "    i = 0\n",
    "    while i < len(str1) and i < len(str2):\n",
    "        if str1[i]!=str2[i]:\n",
    "            break\n",
    "        ret = ret+str1[i]\n",
    "        i = i+1\n",
    "    return ret\n"
   ]
  },
  {
   "cell_type": "code",
   "execution_count": 31,
   "metadata": {},
   "outputs": [],
   "source": [
    "\"\"\"\n",
    "atom -> val\n",
    "star -> arg\n",
    "other -> arg1 /\\ arg2\n",
    "\"\"\"\n",
    "def eTree(reg_exp,path):\n",
    "    node = Node(reg_exp,path)\n",
    "    if type(reg_exp)==atom:\n",
    "        return\n",
    "    elif type(reg_exp)==star:\n",
    "        son = read_reex(node.exp.arg,path+\"1\")\n",
    "    else:\n",
    "        son1 = read_reex(node.exp.arg1,path+\"1\")\n",
    "        son2 = read_reex(node.exp.arg2,path+\"2\")"
   ]
  },
  {
   "cell_type": "code",
   "execution_count": 32,
   "metadata": {},
   "outputs": [
    {
     "name": "stdout",
     "output_type": "stream",
     "text": [
      "a (a + b)*\n",
      "a\n",
      "(a + b)*\n",
      "a + b\n",
      "a\n",
      "b\n"
     ]
    }
   ],
   "source": [
    "a = str2regexp(\"a(a+b)*\")\n",
    "eTree(a,\"1\")\n",
    "get_root().printTree()"
   ]
  },
  {
   "cell_type": "code",
   "execution_count": 33,
   "metadata": {},
   "outputs": [
    {
     "name": "stdout",
     "output_type": "stream",
     "text": [
      "<type 'str'> 1212\n"
     ]
    }
   ],
   "source": [
    "p = NT.get(\"1212\")\n",
    "q = NT.get(\"1212\")\n",
    "k = LCA(p,q)\n",
    "print type(k),k"
   ]
  },
  {
   "cell_type": "code",
   "execution_count": null,
   "metadata": {},
   "outputs": [],
   "source": []
  }
 ],
 "metadata": {
  "kernelspec": {
   "display_name": "Python 2",
   "language": "python",
   "name": "python2"
  },
  "language_info": {
   "codemirror_mode": {
    "name": "ipython",
    "version": 2
   },
   "file_extension": ".py",
   "mimetype": "text/x-python",
   "name": "python",
   "nbconvert_exporter": "python",
   "pygments_lexer": "ipython2",
   "version": "2.7.16"
  }
 },
 "nbformat": 4,
 "nbformat_minor": 2
}
